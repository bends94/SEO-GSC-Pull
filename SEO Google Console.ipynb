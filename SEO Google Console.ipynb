{
 "cells": [
  {
   "cell_type": "markdown",
   "metadata": {},
   "source": [
    "This notebook will be a tutorial in how to use Google Search Console API with Python and Pandas.\n",
    "What we will need:\n",
    "- Python 3 (will have to download Python 3 or Anaconda)\n",
    "- pandas\n",
    "- oauth2Client\n",
    "- googleapiclient\n",
    "- apiclient\n",
    "- httplib2\n",
    "\n",
    "If you don't have any of these you will need to run pip install (package name) <br>\n",
    "<br>\n",
    "Now we import all of our dependencies. This can probably be trimmed, but I did it quickly."
   ]
  },
  {
   "cell_type": "code",
   "execution_count": 2,
   "metadata": {},
   "outputs": [],
   "source": [
    "import pandas as pd\n",
    "import httplib2\n",
    "\n",
    "from googleapiclient import sample_tools\n",
    "from googleapiclient import discovery\n",
    "from googleapiclient.http import build_http\n",
    "from apiclient import errors\n",
    "from apiclient.discovery import build\n",
    "from oauth2client import client\n",
    "from oauth2client import file\n",
    "from oauth2client import tools"
   ]
  },
  {
   "cell_type": "markdown",
   "metadata": {},
   "source": [
    "Now we authenticate and get our service"
   ]
  },
  {
   "cell_type": "code",
   "execution_count": 3,
   "metadata": {},
   "outputs": [],
   "source": [
    "client_secrets = r\"Your Secret Filepath Here\"\n",
    "scope = 'https://www.googleapis.com/auth/webmasters.readonly'\n",
    "# Set up a Flow object to be used if we need to authenticate.\n",
    "flow = client.flow_from_clientsecrets(\n",
    "    client_secrets, scope=scope, message=tools.message_if_missing(client_secrets)\n",
    "    )\n",
    "\n",
    "# Prepare credentials, and authorize HTTP object with them.\n",
    "# If the credentials don't exist or are invalid run through the native client\n",
    "# flow. The Storage object will ensure that if successful the good\n",
    "# credentials will get written back to a file.\n",
    "storage = file.Storage('SEO_Project' + \".dat\")\n",
    "credentials = storage.get()\n",
    "if credentials is None or credentials.invalid:\n",
    "    credentials = tools.run_flow(flow, storage)#, flags)\n",
    "http = credentials.authorize(http=build_http())\n",
    "service = discovery.build('searchconsole', 'v1', http=http)"
   ]
  },
  {
   "cell_type": "markdown",
   "metadata": {},
   "source": [
    "The above code is from google quickstart guide for search console. If you already have your OAuth flow set up, you can use that instead. All we need is the service."
   ]
  },
  {
   "cell_type": "code",
   "execution_count": 4,
   "metadata": {},
   "outputs": [],
   "source": [
    "def execute_request(service, property_uri, request):\n",
    "  \"\"\"Executes a searchAnalytics.query request.\n",
    "  Args:\n",
    "    service: The searchconsole service to use when executing the query.\n",
    "    property_uri: The site or app URI to request data for.\n",
    "    request: The request to be executed.\n",
    "  Returns:\n",
    "    An array of response rows.\n",
    "  \"\"\"\n",
    "  return service.searchanalytics().query(\n",
    "      siteUrl=property_uri, body=request).execute()"
   ]
  },
  {
   "cell_type": "markdown",
   "metadata": {},
   "source": [
    "The above is also from Googles python sample. Now we need to get the total count for the date range of the query we will run. We will start with a small, sample query to verify correct operation. I believe that we get an array output, so we are probably looking for total_rows[1]. However, we will have to see what the print turns up."
   ]
  },
  {
   "cell_type": "code",
   "execution_count": 6,
   "metadata": {},
   "outputs": [
    {
     "ename": "HttpError",
     "evalue": "<HttpError 403 when requesting https://searchconsole.googleapis.com/webmasters/v3/sites/https%3A%2F%2Fwww.example.com%2F/searchAnalytics/query?alt=json returned \"User does not have sufficient permission for site 'https://www.example.com/'. See also: https://support.google.com/webmasters/answer/2451999.\". Details: \"User does not have sufficient permission for site 'https://www.example.com/'. See also: https://support.google.com/webmasters/answer/2451999.\">",
     "output_type": "error",
     "traceback": [
      "\u001b[1;31m---------------------------------------------------------------------------\u001b[0m",
      "\u001b[1;31mHttpError\u001b[0m                                 Traceback (most recent call last)",
      "\u001b[1;32m<ipython-input-6-6b9a1bd97c03>\u001b[0m in \u001b[0;36m<module>\u001b[1;34m\u001b[0m\n\u001b[0;32m      9\u001b[0m      \u001b[1;34m'endDate'\u001b[0m\u001b[1;33m:\u001b[0m \u001b[0mend_date\u001b[0m\u001b[1;33m\u001b[0m\u001b[1;33m\u001b[0m\u001b[0m\n\u001b[0;32m     10\u001b[0m     }\n\u001b[1;32m---> 11\u001b[1;33m \u001b[0mtotal_rows\u001b[0m \u001b[1;33m=\u001b[0m \u001b[0mexecute_request\u001b[0m\u001b[1;33m(\u001b[0m\u001b[0mservice\u001b[0m\u001b[1;33m,\u001b[0m \u001b[0mproperty_uri\u001b[0m\u001b[1;33m,\u001b[0m \u001b[0mrequest\u001b[0m\u001b[1;33m)\u001b[0m\u001b[1;33m\u001b[0m\u001b[1;33m\u001b[0m\u001b[0m\n\u001b[0m\u001b[0;32m     12\u001b[0m \u001b[0mprint\u001b[0m\u001b[1;33m(\u001b[0m\u001b[0mresponse\u001b[0m\u001b[1;33m)\u001b[0m\u001b[1;33m\u001b[0m\u001b[1;33m\u001b[0m\u001b[0m\n",
      "\u001b[1;32m<ipython-input-4-9207c181aae5>\u001b[0m in \u001b[0;36mexecute_request\u001b[1;34m(service, property_uri, request)\u001b[0m\n\u001b[0;32m      8\u001b[0m     \u001b[0mAn\u001b[0m \u001b[0marray\u001b[0m \u001b[0mof\u001b[0m \u001b[0mresponse\u001b[0m \u001b[0mrows\u001b[0m\u001b[1;33m.\u001b[0m\u001b[1;33m\u001b[0m\u001b[1;33m\u001b[0m\u001b[0m\n\u001b[0;32m      9\u001b[0m   \"\"\"\n\u001b[1;32m---> 10\u001b[1;33m   return service.searchanalytics().query(\n\u001b[0m\u001b[0;32m     11\u001b[0m       siteUrl=property_uri, body=request).execute()\n",
      "\u001b[1;32m~\\anaconda3\\lib\\site-packages\\googleapiclient\\_helpers.py\u001b[0m in \u001b[0;36mpositional_wrapper\u001b[1;34m(*args, **kwargs)\u001b[0m\n\u001b[0;32m    132\u001b[0m                 \u001b[1;32melif\u001b[0m \u001b[0mpositional_parameters_enforcement\u001b[0m \u001b[1;33m==\u001b[0m \u001b[0mPOSITIONAL_WARNING\u001b[0m\u001b[1;33m:\u001b[0m\u001b[1;33m\u001b[0m\u001b[1;33m\u001b[0m\u001b[0m\n\u001b[0;32m    133\u001b[0m                     \u001b[0mlogger\u001b[0m\u001b[1;33m.\u001b[0m\u001b[0mwarning\u001b[0m\u001b[1;33m(\u001b[0m\u001b[0mmessage\u001b[0m\u001b[1;33m)\u001b[0m\u001b[1;33m\u001b[0m\u001b[1;33m\u001b[0m\u001b[0m\n\u001b[1;32m--> 134\u001b[1;33m             \u001b[1;32mreturn\u001b[0m \u001b[0mwrapped\u001b[0m\u001b[1;33m(\u001b[0m\u001b[1;33m*\u001b[0m\u001b[0margs\u001b[0m\u001b[1;33m,\u001b[0m \u001b[1;33m**\u001b[0m\u001b[0mkwargs\u001b[0m\u001b[1;33m)\u001b[0m\u001b[1;33m\u001b[0m\u001b[1;33m\u001b[0m\u001b[0m\n\u001b[0m\u001b[0;32m    135\u001b[0m \u001b[1;33m\u001b[0m\u001b[0m\n\u001b[0;32m    136\u001b[0m         \u001b[1;32mreturn\u001b[0m \u001b[0mpositional_wrapper\u001b[0m\u001b[1;33m\u001b[0m\u001b[1;33m\u001b[0m\u001b[0m\n",
      "\u001b[1;32m~\\anaconda3\\lib\\site-packages\\googleapiclient\\http.py\u001b[0m in \u001b[0;36mexecute\u001b[1;34m(self, http, num_retries)\u001b[0m\n\u001b[0;32m    913\u001b[0m             \u001b[0mcallback\u001b[0m\u001b[1;33m(\u001b[0m\u001b[0mresp\u001b[0m\u001b[1;33m)\u001b[0m\u001b[1;33m\u001b[0m\u001b[1;33m\u001b[0m\u001b[0m\n\u001b[0;32m    914\u001b[0m         \u001b[1;32mif\u001b[0m \u001b[0mresp\u001b[0m\u001b[1;33m.\u001b[0m\u001b[0mstatus\u001b[0m \u001b[1;33m>=\u001b[0m \u001b[1;36m300\u001b[0m\u001b[1;33m:\u001b[0m\u001b[1;33m\u001b[0m\u001b[1;33m\u001b[0m\u001b[0m\n\u001b[1;32m--> 915\u001b[1;33m             \u001b[1;32mraise\u001b[0m \u001b[0mHttpError\u001b[0m\u001b[1;33m(\u001b[0m\u001b[0mresp\u001b[0m\u001b[1;33m,\u001b[0m \u001b[0mcontent\u001b[0m\u001b[1;33m,\u001b[0m \u001b[0muri\u001b[0m\u001b[1;33m=\u001b[0m\u001b[0mself\u001b[0m\u001b[1;33m.\u001b[0m\u001b[0muri\u001b[0m\u001b[1;33m)\u001b[0m\u001b[1;33m\u001b[0m\u001b[1;33m\u001b[0m\u001b[0m\n\u001b[0m\u001b[0;32m    916\u001b[0m         \u001b[1;32mreturn\u001b[0m \u001b[0mself\u001b[0m\u001b[1;33m.\u001b[0m\u001b[0mpostproc\u001b[0m\u001b[1;33m(\u001b[0m\u001b[0mresp\u001b[0m\u001b[1;33m,\u001b[0m \u001b[0mcontent\u001b[0m\u001b[1;33m)\u001b[0m\u001b[1;33m\u001b[0m\u001b[1;33m\u001b[0m\u001b[0m\n\u001b[0;32m    917\u001b[0m \u001b[1;33m\u001b[0m\u001b[0m\n",
      "\u001b[1;31mHttpError\u001b[0m: <HttpError 403 when requesting https://searchconsole.googleapis.com/webmasters/v3/sites/https%3A%2F%2Fwww.example.com%2F/searchAnalytics/query?alt=json returned \"User does not have sufficient permission for site 'https://www.example.com/'. See also: https://support.google.com/webmasters/answer/2451999.\". Details: \"User does not have sufficient permission for site 'https://www.example.com/'. See also: https://support.google.com/webmasters/answer/2451999.\">"
     ]
    }
   ],
   "source": [
    "property_uri = \"https://www.example.com/\"\n",
    "\n",
    "#Date is YYYY-MM-DD format.\n",
    "start_date = \"2020-01-01\"\n",
    "end_date = \"2020-01-01\"\n",
    "\n",
    "request = {\n",
    "     'startDate': start_date,\n",
    "     'endDate': end_date\n",
    "    }\n",
    "total_rows = execute_request(service, property_uri, request)\n",
    "print(response)"
   ]
  },
  {
   "cell_type": "markdown",
   "metadata": {},
   "source": [
    "Now that we have the total number of rows for our date range, we can execute the request for the data we are actually looking for. I am going to try and pull this into a pandas DataFrame for storage."
   ]
  },
  {
   "cell_type": "code",
   "execution_count": null,
   "metadata": {},
   "outputs": [],
   "source": [
    "current_row = 0\n",
    "total_df = pd.DataFrame()\n",
    "while current_row<tot_rows\n",
    "    request = {\n",
    "        'startDate': start_date,\n",
    "        'endDate': end_date,\n",
    "        'dimensions': ['query', 'page'],\n",
    "        'rowLimit': 25000,\n",
    "        'rowStart':current_row\n",
    "        }\n",
    "    current_row = current_row + 25000\n",
    "    partial_df = pd.DataFrame(execute_request(service, property_uri, request))\n",
    "    total_df = pd.concat([partial_df,total_df],axis=0, copy=False)\n",
    "\n",
    "print(total_df.shape)\n",
    "total_df.head(5)\n",
    "total_df.to_csv('test_data.csv', index=False)"
   ]
  },
  {
   "cell_type": "markdown",
   "metadata": {},
   "source": [
    "That should be it! Now we need to implement this for a full year. Ideally, that will mean just changing the date range above. If you run into API call size limitations, that might change. See below for an example of how you would (probably) be able to run a request for each month"
   ]
  },
  {
   "cell_type": "code",
   "execution_count": null,
   "metadata": {},
   "outputs": [],
   "source": [
    "total_rows=[]\n",
    "for month in range(12):\n",
    "    days_per_month = [31,28,31,30,31,30,31,31,30,31,30,31,31]\n",
    "    if month < 9:\n",
    "        start_date = \"2020-0\" + str(month+1) + \"-01\n",
    "        end_date = \"2020-0\" + str(month+2) + \"-\" + str(days_per_month[month+1])\n",
    "    elif: month == 9\n",
    "        start_date = \"2020-0\" + str(month+1) + \"-01\n",
    "        end_date = \"2020-\" + str(month+2) + \"-\" + str(days_per_month[month+1])\n",
    "    else:\n",
    "        start_date = \"2020-\" + str(month+1) + \"-01\n",
    "        end_date = \"2020-\" + str(month+2) + \"-\" + str(days_per_month[month+1])\n",
    "    request = {\n",
    "         'startDate': start_date,\n",
    "         'endDate': end_date\n",
    "        }\n",
    "    total_rows = execute_request(service, property_uri, request)\n",
    "    current_row = 0\n",
    "    total_df = pd.DataFrame()\n",
    "    while current_row<tot_rows:\n",
    "        request = {\n",
    "            'startDate': start_date,\n",
    "            'endDate': end_date,\n",
    "            'dimensions': ['query', 'page'],\n",
    "            'rowLimit': 25000,\n",
    "            'rowStart':current_row\n",
    "            }\n",
    "        current_row = current_row + 25000\n",
    "        partial_df = pd.DataFrame(execute_request(service, flags.property_uri, request))\n",
    "        total_df = pd.concat([partial_df,total_df],axis=0, copy=False)\n",
    "\n",
    "    print(total_df.shape)\n",
    "    total_df.head(5)\n",
    "    total_df.to_csv('month_' + str(month+1) + '.csv', index=False)"
   ]
  }
 ],
 "metadata": {
  "kernelspec": {
   "display_name": "Python 3",
   "language": "python",
   "name": "python3"
  },
  "language_info": {
   "codemirror_mode": {
    "name": "ipython",
    "version": 3
   },
   "file_extension": ".py",
   "mimetype": "text/x-python",
   "name": "python",
   "nbconvert_exporter": "python",
   "pygments_lexer": "ipython3",
   "version": "3.8.5"
  }
 },
 "nbformat": 4,
 "nbformat_minor": 4
}
